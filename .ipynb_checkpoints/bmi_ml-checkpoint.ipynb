{
 "cells": [
  {
   "cell_type": "code",
   "execution_count": 15,
   "metadata": {
    "collapsed": true
   },
   "outputs": [],
   "source": [
    "import pandas as pd\n",
    "import numpy as np\n",
    "import tensorflow as tf"
   ]
  },
  {
   "cell_type": "code",
   "execution_count": 16,
   "metadata": {
    "collapsed": false
   },
   "outputs": [],
   "source": [
    "csv = pd.read_csv('bmi.csv')\n",
    "# csv"
   ]
  },
  {
   "cell_type": "code",
   "execution_count": 17,
   "metadata": {
    "collapsed": false
   },
   "outputs": [],
   "source": [
    "#正規化 1未満の数に直す なんでいるんだろう?\n",
    "# これで、CSVの列に一括で処理していることになる　forループ回す必要がない\n",
    "# csv['height'] = csv['height'] / 200\n",
    "# csv['weight'] = csv['weight'] / 100\n",
    "csv['height'] /= 200\n",
    "csv['weight'] /= 100"
   ]
  },
  {
   "cell_type": "code",
   "execution_count": 4,
   "metadata": {
    "collapsed": true
   },
   "outputs": [],
   "source": [
    "# ラベルを3次元で表すための辞書 なんで3次元化がいるんだろう?\n",
    "bmi_dic = {'thin':[1,0,0], 'normal':[0,1,0], 'fat':[0,0,1]}"
   ]
  },
  {
   "cell_type": "code",
   "execution_count": 5,
   "metadata": {
    "collapsed": false
   },
   "outputs": [],
   "source": [
    "# csv['label']の値に対して、lambda関数を適用して、それをcsv['label_pat']に保持する\n",
    "# np.arrayはndarray型を生成し、普通の多重リストではなく、型が一定の行列でなければならず、より高速に処理される\n",
    "csv['label_pat'] = csv['label'].apply(lambda x: np.array(bmi_dic[x]))\n",
    "# csv"
   ]
  },
  {
   "cell_type": "code",
   "execution_count": 6,
   "metadata": {
    "collapsed": false
   },
   "outputs": [],
   "source": [
    "# テストデータをわける\n",
    "test_csv = csv[15000:20000]\n",
    "\n",
    "#　テストのパータンデータ これでweightとheightの列を結合したCSVデータになってる!\n",
    "test_pat = test_csv[['weight', 'height']]\n",
    "\n",
    "test_ans = list(test_csv['label_pat'])\n",
    "\n",
    "# test_csv\n",
    "# test_pat\n",
    "# test_ans"
   ]
  },
  {
   "cell_type": "code",
   "execution_count": 7,
   "metadata": {
    "collapsed": false
   },
   "outputs": [],
   "source": [
    "# データフローグラフの作成\n",
    "# まずプレースホルダ\n",
    "x = tf.placeholder(tf.float32, [None, 2], name = 'x') # 身長体重のデータ Boardで見やすいように名前もつける\n",
    "y_ = tf.placeholder(tf.float32, [None, 3], name = 'y_') # 答えのラベル Boardで見やすいように名前もつける"
   ]
  },
  {
   "cell_type": "code",
   "execution_count": 8,
   "metadata": {
    "collapsed": false
   },
   "outputs": [],
   "source": [
    "# 変数 Boardで見やすいようにscopeに纏める\n",
    "with tf.name_scope('interface') as scope:\n",
    "    W = tf.Variable(tf.zeros([2, 3]), name='W') # 重み Boardで見やすいように名前もつける\n",
    "    b = tf.Variable(tf.zeros([3]), name = 'b') # バイアス Boardで見やすいように名前もつける"
   ]
  },
  {
   "cell_type": "code",
   "execution_count": 9,
   "metadata": {
    "collapsed": false
   },
   "outputs": [],
   "source": [
    "    with tf.name_scope('softmax') as scope:\n",
    "        # 変数とプレースホルダを、ソフトマックス回帰にかける\n",
    "        # http://developabout0309.blogspot.jp/2016/07/tensorflow-8.html\n",
    "        y = tf.nn.softmax(tf.matmul(x, W) + b)\n",
    "        # 最大値を1に近づけ、最小値を0に近づける関数?"
   ]
  },
  {
   "cell_type": "code",
   "execution_count": 10,
   "metadata": {
    "collapsed": false
   },
   "outputs": [],
   "source": [
    "#訓練 \n",
    "with tf.name_scope('loss') as scope:\n",
    "    cross_entropy = -tf.reduce_sum(y_ * tf.log(y))\n",
    "\n",
    "with tf.name_scope('training') as scope:\n",
    "    optimizer = tf.train.GradientDescentOptimizer(0.01)\n",
    "    train = optimizer.minimize(cross_entropy)"
   ]
  },
  {
   "cell_type": "code",
   "execution_count": 11,
   "metadata": {
    "collapsed": true
   },
   "outputs": [],
   "source": [
    "# 正解率\n",
    "predict = tf.equal(tf.argmax(y, 1), tf.argmax(y_, 1))\n",
    "accuracy = tf.reduce_mean(tf.cast(predict, tf.float32))\n"
   ]
  },
  {
   "cell_type": "code",
   "execution_count": 12,
   "metadata": {
    "collapsed": false
   },
   "outputs": [],
   "source": [
    "# セッション生成\n",
    "sess = tf.Session()\n",
    "sess.run(tf.global_variables_initializer()) #初期化"
   ]
  },
  {
   "cell_type": "code",
   "execution_count": 13,
   "metadata": {
    "collapsed": false
   },
   "outputs": [],
   "source": [
    "# tensorboardを使う\n",
    "tw = tf.summary.FileWriter('log', graph = sess.graph)"
   ]
  },
  {
   "cell_type": "code",
   "execution_count": 14,
   "metadata": {
    "collapsed": false
   },
   "outputs": [
    {
     "name": "stdout",
     "output_type": "stream",
     "text": [
      "step =  0 cre =  108.53 acc =  0.38\n",
      "step =  500 cre =  51.9069 acc =  0.85\n",
      "step =  1000 cre =  45.6281 acc =  0.97\n",
      "step =  1500 cre =  39.5062 acc =  0.95\n",
      "step =  2000 cre =  33.5967 acc =  0.95\n",
      "step =  2500 cre =  31.9654 acc =  0.96\n",
      "step =  3000 cre =  24.9812 acc =  0.96\n"
     ]
    }
   ],
   "source": [
    "#　学習させる\n",
    "for step in range(3500):\n",
    "    i = (step * 100) % 14000\n",
    "    rows = csv[1 + i : 1 + i  +100]\n",
    "    x_pat = rows[['weight', 'height']]\n",
    "    y_ans = list(rows['label_pat'])\n",
    "    fd = {x: x_pat, y_: y_ans}\n",
    "    sess.run(train, feed_dict = fd)\n",
    "    if step % 500 == 0:\n",
    "        cre = sess.run(cross_entropy, feed_dict = fd)\n",
    "        acc = sess.run(accuracy, feed_dict = fd)\n",
    "        print('step = ', step, 'cre = ', cre, 'acc = ', acc)\n",
    "\n",
    "acc = sess.run(accuracy, feed_dict = {x: test_pat, y_: test_ans})\n",
    "# print('正解率', acc) "
   ]
  }
 ],
 "metadata": {
  "kernelspec": {
   "display_name": "Python 3",
   "language": "python",
   "name": "python3"
  },
  "language_info": {
   "codemirror_mode": {
    "name": "ipython",
    "version": 3
   },
   "file_extension": ".py",
   "mimetype": "text/x-python",
   "name": "python",
   "nbconvert_exporter": "python",
   "pygments_lexer": "ipython3",
   "version": "3.5.2"
  }
 },
 "nbformat": 4,
 "nbformat_minor": 2
}
