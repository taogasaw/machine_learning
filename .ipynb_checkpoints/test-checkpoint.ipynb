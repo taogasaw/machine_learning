{
 "cells": [
  {
   "cell_type": "code",
   "execution_count": 15,
   "metadata": {
    "collapsed": true
   },
   "outputs": [],
   "source": [
    "import matplotlib.pyplot as plt\n",
    "import numpy as np\n",
    "import pandas as pd\n",
    "import tensorflow as tf"
   ]
  },
  {
   "cell_type": "code",
   "execution_count": 20,
   "metadata": {
    "collapsed": false,
    "scrolled": true
   },
   "outputs": [
    {
     "name": "stdout",
     "output_type": "stream",
     "text": [
      "Tensor(\"Variable_6/read:0\", shape=(), dtype=int32) 150\n"
     ]
    }
   ],
   "source": [
    "# 定数を定義\n",
    "a = tf.constant(100)\n",
    "b = tf.constant(50)\n",
    "\n",
    "# 足し算のオペレーションを定義\n",
    "add_op = a + b\n",
    "\n",
    "# 変数を定義\n",
    "v = tf.Variable(0)\n",
    "\n",
    "# 変数に足し算オペレーションの結果を代入\n",
    "let_op = tf.assign(v, add_op)\n",
    "\n",
    "# セッション開始\n",
    "sess = tf.Session()\n",
    "\n",
    "#　定義されている変数を初期化\n",
    "sess.run(tf.global_variables_initializer())\n",
    "\n",
    "#オペレーションを実行\n",
    "sess.run(let_op)\n",
    "\n",
    "# 結果を保持する変数を実行し、表示\n",
    "print(v, sess.run(v))\n"
   ]
  }
 ],
 "metadata": {
  "kernelspec": {
   "display_name": "Python 3",
   "language": "python",
   "name": "python3"
  },
  "language_info": {
   "codemirror_mode": {
    "name": "ipython",
    "version": 3
   },
   "file_extension": ".py",
   "mimetype": "text/x-python",
   "name": "python",
   "nbconvert_exporter": "python",
   "pygments_lexer": "ipython3",
   "version": "3.5.2"
  }
 },
 "nbformat": 4,
 "nbformat_minor": 2
}
