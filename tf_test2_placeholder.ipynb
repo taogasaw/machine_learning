{
 "cells": [
  {
   "cell_type": "code",
   "execution_count": 8,
   "metadata": {
    "collapsed": true
   },
   "outputs": [],
   "source": [
    "import tensorflow as tf"
   ]
  },
  {
   "cell_type": "code",
   "execution_count": 9,
   "metadata": {
    "collapsed": false
   },
   "outputs": [
    {
     "name": "stdout",
     "output_type": "stream",
     "text": [
      "[2 4 6]\n",
      "[ 2  4  6  8 10 12 14]\n"
     ]
    }
   ],
   "source": [
    "ph_fix3 = tf.placeholder(tf.int32, [3])\n",
    "ph_unfix = tf.placeholder(tf.int32, [None])\n",
    "\n",
    "cst2 = tf.constant(2)\n",
    "\n",
    "op_x2_fix3 = ph_fix3 * cst2\n",
    "op_x2_unfix = ph_unfix * cst2\n",
    "\n",
    "sess = tf.Session()\n",
    "ret_fix3 = sess.run(op_x2_fix3, feed_dict = { ph_fix3:[1,2,3] })\n",
    "ret_unfix = sess.run(op_x2_unfix, feed_dict = { ph_unfix:[1, 2, 3, 4, 5, 6, 7] })\n",
    "\n",
    "print(ret_fix3)\n",
    "print(ret_unfix)"
   ]
  },
  {
   "cell_type": "code",
   "execution_count": null,
   "metadata": {
    "collapsed": true
   },
   "outputs": [],
   "source": []
  }
 ],
 "metadata": {
  "kernelspec": {
   "display_name": "Python 3",
   "language": "python",
   "name": "python3"
  },
  "language_info": {
   "codemirror_mode": {
    "name": "ipython",
    "version": 3
   },
   "file_extension": ".py",
   "mimetype": "text/x-python",
   "name": "python",
   "nbconvert_exporter": "python",
   "pygments_lexer": "ipython3",
   "version": "3.5.2"
  }
 },
 "nbformat": 4,
 "nbformat_minor": 2
}
